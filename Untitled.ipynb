{
 "cells": [
  {
   "cell_type": "code",
   "execution_count": 5,
   "id": "eb5a35aa-ee96-4208-8211-585f3afba91f",
   "metadata": {},
   "outputs": [],
   "source": [
    "from sklearn.datasets import make_regression\n",
    "data = make_regression(n_samples=10000, n_features=10)\n",
    "import pandas as pd\n",
    "#asdas"
   ]
  },
  {
   "cell_type": "code",
   "execution_count": 10,
   "id": "f08d796c-caa0-425d-bae9-cc19387bfea8",
   "metadata": {},
   "outputs": [],
   "source": [
    "X = data[0]\n",
    "y = data[1]"
   ]
  },
  {
   "cell_type": "code",
   "execution_count": 56,
   "id": "6f20c567-be20-432e-ba62-8a41e70e8f05",
   "metadata": {},
   "outputs": [],
   "source": [
    "import json\n",
    "\n",
    "d = {\n",
    "    \"X\": str(X.tolist()),\n",
    "    \"y\": str(y.tolist())\n",
    "}"
   ]
  },
  {
   "cell_type": "code",
   "execution_count": 62,
   "id": "1d14c6da-9577-4b9a-b77f-989c3304e0de",
   "metadata": {},
   "outputs": [],
   "source": [
    "with open('data/json_data.json', 'w') as outfile:\n",
    "    json.dump(d, outfile)"
   ]
  },
  {
   "cell_type": "code",
   "execution_count": 32,
   "id": "8306bd8b-7b16-4053-9e16-3cd40962574e",
   "metadata": {},
   "outputs": [
    {
     "name": "stdout",
     "output_type": "stream",
     "text": [
      "Writing pipeline.py\n"
     ]
    }
   ],
   "source": [
    "%%writefile pipeline.py\n",
    "#pipeline\n",
    "import json\n",
    "import numpy as np\n",
    "from sklearn.preprocessing import MinMaxScaler\n",
    "from sklearn.decomposition import PCA\n",
    "with open('data/json_data.json') as json_file:\n",
    "    data = json.load(json_file)\n",
    "scaler = MinMaxScaler()\n",
    "pca = PCA(n_components=8)\n",
    "X = np.array(json.loads(data['X'])[7000:])\n",
    "y = np.array(json.loads(data['y'])[7000:])\n",
    "X_ = pca.fit_transform(scaler.fit_transform(X))\n",
    "\n",
    "d = {\n",
    "    \"X\": str(X_.tolist()),\n",
    "    \"y\": str(y.tolist())\n",
    "}\n",
    "\n",
    "with open('data/json_data_preprocess.json', 'w') as outfile:\n",
    "    json.dump(d, outfile,indent = 4)"
   ]
  },
  {
   "cell_type": "code",
   "execution_count": 11,
   "id": "447138d5-7084-485e-95d8-db2bd32338db",
   "metadata": {},
   "outputs": [
    {
     "name": "stdout",
     "output_type": "stream",
     "text": [
      "Writing predict.py\n"
     ]
    }
   ],
   "source": [
    "%%writefile predict.py\n",
    "#predict\n",
    "import json\n",
    "import numpy as np\n",
    "import joblib\n",
    "with open('data/json_data_preprocess.json') as json_file:\n",
    "    data = json.load(json_file)\n",
    "\n",
    "X = np.array(json.loads(data['X']))\n",
    "y = np.array(json.loads(data['y']))\n",
    "\n",
    "loaded_model = joblib.load('model/joblib_model.pkl')\n",
    "result = loaded_model.predict(X)\n",
    "\n",
    "d = {\n",
    "    \"y_real\": str(y.tolist()),\n",
    "    \"y_predict\": str(result.tolist())\n",
    "}\n",
    "\n",
    "\n",
    "with open('data/json_data_prediction.json', 'w') as outfile:\n",
    "    json.dump(d, outfile,indent = 4)"
   ]
  },
  {
   "cell_type": "code",
   "execution_count": 39,
   "id": "b9035483-9065-4ed1-860f-28933f6ebf9d",
   "metadata": {},
   "outputs": [
    {
     "name": "stdout",
     "output_type": "stream",
     "text": [
      "Writing test.py\n"
     ]
    }
   ],
   "source": [
    "%%writefile test.py\n",
    "\n",
    "from schema import Schema\n",
    "import json\n",
    "from sklearn.metrics import r2_score as R2\n",
    "import numpy as np\n",
    "\n",
    "\n",
    "\n",
    "def test_schema():\n",
    "    #data normal\n",
    "    with open(\"data/json_data.json\", \"r\") as file:    \n",
    "        test_data = json.load(file)\n",
    "    \n",
    "    schema = Schema([{'X': str,\n",
    "                 'y': str}])\n",
    "    assert schema.is_valid([test_data]) == True\n",
    "    \n",
    "    #data preprocess\n",
    "    with open(\"data/json_data_preprocess.json\", \"r\") as file:    \n",
    "        test_data = json.load(file)\n",
    "    \n",
    "    schema = Schema([{'X': str,\n",
    "                 'y': str}])\n",
    "    assert schema.is_valid([test_data]) == True\n",
    "    \n",
    "    \n",
    "    #data prediction\n",
    "    with open(\"data/json_data_prediction.json\", \"r\") as file:    \n",
    "        test_data = json.load(file)\n",
    "    \n",
    "    schema = Schema([{'y_real': str,\n",
    "                 'y_predict': str}])\n",
    "    assert schema.is_valid([test_data]) == True\n",
    "    \n",
    "def test_score():\n",
    "    with open(\"data/json_data_prediction.json\", \"r\") as file:    \n",
    "        test_data = json.load(file)\n",
    "    \n",
    "    y = np.array(json.loads(test_data['y_real']))\n",
    "    y_ = np.array(json.loads(test_data['y_predict']))\n",
    "    \n",
    "    acc = np.abs(R2(y,y_))\n",
    "    \n",
    "    assert acc > 0.1"
   ]
  }
 ],
 "metadata": {
  "kernelspec": {
   "display_name": "Python 3 (ipykernel)",
   "language": "python",
   "name": "python3"
  },
  "language_info": {
   "codemirror_mode": {
    "name": "ipython",
    "version": 3
   },
   "file_extension": ".py",
   "mimetype": "text/x-python",
   "name": "python",
   "nbconvert_exporter": "python",
   "pygments_lexer": "ipython3",
   "version": "3.9.7"
  }
 },
 "nbformat": 4,
 "nbformat_minor": 5
}
